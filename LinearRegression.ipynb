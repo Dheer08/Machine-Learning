{
 "cells": [
  {
   "cell_type": "code",
   "execution_count": 1,
   "metadata": {},
   "outputs": [],
   "source": [
    "import pandas as pd\n",
    "#This package is used to import and to handle datasets"
   ]
  },
  {
   "cell_type": "code",
   "execution_count": 2,
   "metadata": {},
   "outputs": [],
   "source": [
    "import numpy as np\n",
    "#This package is used to handle individual columns of dataset and perform operation on them"
   ]
  },
  {
   "cell_type": "code",
   "execution_count": 3,
   "metadata": {},
   "outputs": [],
   "source": [
    "import matplotlib.pyplot as plt\n",
    "#This module is used to visulaize data through graphs so that one can apply the best algorithm possible"
   ]
  },
  {
   "cell_type": "code",
   "execution_count": 4,
   "metadata": {},
   "outputs": [],
   "source": [
    "import sklearn\n",
    "#This package contains the operations done on the whole dataset \n",
    "#For example splitting the dataset into training and testing"
   ]
  },
  {
   "cell_type": "code",
   "execution_count": 5,
   "metadata": {},
   "outputs": [],
   "source": [
    "from sklearn import linear_model\n",
    "#This module contains the Linear Regression algorithm that is to be implemented"
   ]
  },
  {
   "cell_type": "code",
   "execution_count": 6,
   "metadata": {},
   "outputs": [],
   "source": [
    "import pickle\n",
    "#This module helps in saving the trained model so that one need not train the model again and again "
   ]
  },
  {
   "cell_type": "code",
   "execution_count": 7,
   "metadata": {},
   "outputs": [],
   "source": [
    "from matplotlib import style\n",
    "#This helps in handling the graphs in more colourful  and easy to understand"
   ]
  },
  {
   "cell_type": "code",
   "execution_count": 13,
   "metadata": {},
   "outputs": [],
   "source": [
    "dataset=pd.read_csv('student-mat.csv',sep=\";\")\n",
    "#The imported file is a .csv file in  which the data are seperated by comma(,) or semi-colon(;)\n",
    "#Reading the file and importing the data into program\n",
    "#All the data in the file will be taken by variable dataset"
   ]
  },
  {
   "cell_type": "code",
   "execution_count": 14,
   "metadata": {},
   "outputs": [
    {
     "name": "stdout",
     "output_type": "stream",
     "text": [
      "  school sex  age address famsize Pstatus  Medu  Fedu     Mjob      Fjob  ...  \\\n",
      "0     GP   F   18       U     GT3       A     4     4  at_home   teacher  ...   \n",
      "1     GP   F   17       U     GT3       T     1     1  at_home     other  ...   \n",
      "2     GP   F   15       U     LE3       T     1     1  at_home     other  ...   \n",
      "3     GP   F   15       U     GT3       T     4     2   health  services  ...   \n",
      "4     GP   F   16       U     GT3       T     3     3    other     other  ...   \n",
      "\n",
      "  famrel freetime  goout  Dalc  Walc health absences  G1  G2  G3  \n",
      "0      4        3      4     1     1      3        6   5   6   6  \n",
      "1      5        3      3     1     1      3        4   5   5   6  \n",
      "2      4        3      2     2     3      3       10   7   8  10  \n",
      "3      3        2      2     1     1      5        2  15  14  15  \n",
      "4      4        3      2     1     2      5        4   6  10  10  \n",
      "\n",
      "[5 rows x 33 columns]\n"
     ]
    }
   ],
   "source": [
    "print(dataset.head())\n",
    "#This helps in whether the data is imported sucessfully or not  \n",
    "#It also helps in understaning the features and label by showing the first few rows\n",
    "#you can also use print(dataset.tail()) which shows last few rows "
   ]
  },
  {
   "cell_type": "code",
   "execution_count": 15,
   "metadata": {},
   "outputs": [],
   "source": [
    "dataset=dataset[[\"G1\",\"G2\",\"G3\",\"studytime\",\"failures\",\"absences\"]]\n",
    "#Here we are cuttting down the features into five  as a beginner\n",
    "#Before training the model you should consider only the important features so to increase accuracy of model\n",
    "#and decrease the time computation for higher models"
   ]
  },
  {
   "cell_type": "code",
   "execution_count": 16,
   "metadata": {},
   "outputs": [],
   "source": [
    "predict = \"G3\"\n",
    "#Here we are going to predict the Grade 3 of student based on other features"
   ]
  },
  {
   "cell_type": "code",
   "execution_count": 18,
   "metadata": {},
   "outputs": [],
   "source": [
    "x = np.array(dataset.drop([predict],1))\n",
    "#x=dataset[[\"G1\",\"G2\",\"studytime\",\"failures\",\"absences\"]]\n",
    "#Dropping a column which is going to be our label(ouput or result)\n",
    "\n",
    "y=np.array(dataset[predict])\n",
    "#y=dataset[[\"G3\"]] Both are same\n",
    "#storing the both features and lables as numpy arrays for easy splitting"
   ]
  },
  {
   "cell_type": "code",
   "execution_count": 19,
   "metadata": {},
   "outputs": [],
   "source": [
    "x_train,x_test,y_train,y_test=sklearn.model_selection.train_test_split(x,y,test_size=0.3)\n",
    "#Here the dataset is splitted into training and testing datset \n",
    "#the parameter test_size denotes the ratio of division \n",
    "#Here the training and testing share 70% and 30% of total dataset "
   ]
  },
  {
   "cell_type": "code",
   "execution_count": 20,
   "metadata": {},
   "outputs": [],
   "source": [
    "classifier =linear_model.LinearRegression();\n",
    "#Declaring the classifer \n",
    "#There  are hyperparameters  which can be tweaked to increase your accuracy\n",
    "#By Default it takes the Below given values"
   ]
  },
  {
   "cell_type": "code",
   "execution_count": 21,
   "metadata": {},
   "outputs": [
    {
     "data": {
      "text/plain": [
       "LinearRegression(copy_X=True, fit_intercept=True, n_jobs=None, normalize=False)"
      ]
     },
     "execution_count": 21,
     "metadata": {},
     "output_type": "execute_result"
    }
   ],
   "source": [
    "classifier.fit(x_train,y_train)\n",
    "#Training the model"
   ]
  },
  {
   "cell_type": "code",
   "execution_count": 23,
   "metadata": {},
   "outputs": [],
   "source": [
    "accuracy =classifier.score(x_test,y_test)\n",
    "#Finding the accuracy of model by testing on test dateset"
   ]
  },
  {
   "cell_type": "code",
   "execution_count": 24,
   "metadata": {},
   "outputs": [
    {
     "name": "stdout",
     "output_type": "stream",
     "text": [
      "0.7911511327472398\n"
     ]
    }
   ],
   "source": [
    "print(accuracy)\n",
    "#printing th accuracy of model"
   ]
  },
  {
   "cell_type": "code",
   "execution_count": 25,
   "metadata": {},
   "outputs": [],
   "source": [
    "with open(\"studentmodel.pickle\",\"wb\") as f:\n",
    "\tpickle.dump(classifier,f)\n",
    "#This is way of storing trained model which can later be tested without training again\n",
    "#The trained model will be stored in  studentmodel.pickle  file"
   ]
  },
  {
   "cell_type": "code",
   "execution_count": 26,
   "metadata": {},
   "outputs": [],
   "source": [
    "pickle_in = open(\"studentmodel.pickle\",\"rb\")\n",
    "linearclassifier =pickle.load(pickle_in)\n",
    "#you can load the trained model in this manner"
   ]
  },
  {
   "cell_type": "code",
   "execution_count": 28,
   "metadata": {},
   "outputs": [
    {
     "name": "stdout",
     "output_type": "stream",
     "text": [
      "coefficient :  [ 0.15154885  0.96686511 -0.21173071 -0.24133028  0.03070042]\n",
      "Intercept :\n",
      " -1.2200382940825953\n"
     ]
    }
   ],
   "source": [
    "print(\"coefficient : \",linearclassifier.coef_)\n",
    "print('Intercept :\\n',linearclassifier.intercept_)  \n",
    "#As Linear Regression algorithm follows the line y=mx +b\n",
    "#Where m=slope of line and b= y-intercept of line"
   ]
  },
  {
   "cell_type": "code",
   "execution_count": 32,
   "metadata": {},
   "outputs": [
    {
     "name": "stdout",
     "output_type": "stream",
     "text": [
      "[11.99432392 11.14830723 12.83716837  7.7052372  12.77576753  8.48260242\n",
      "  8.82059704 15.34883149 11.87803858  7.9139138  14.92097887 11.90148838\n",
      "  6.85295262 11.27220976  8.15031329  5.30985827 14.01429562 13.10761238\n",
      " 14.98116073  3.01387278 15.94924481  6.73527643  8.60642838 10.6303066\n",
      " 12.08483849  8.63293229  3.82918904 12.35352508 13.86518473 18.03452387\n",
      " 13.77381775 10.96215146 11.385441   10.1414494  11.08495314 15.43971378\n",
      " 18.24869254 12.74433283  5.88473822 13.47528314 14.8922317  12.4150978\n",
      " 16.40267237  7.76236496  8.69657639  8.42344484 18.9452855  10.14952273\n",
      " 12.74433283 15.70893881  5.94406768  9.17736026  8.00284283  7.30381191\n",
      "  9.30936582  7.54941527 10.99602411  9.42174464  8.06078144 11.74798627\n",
      "  9.23754212  7.81985928 10.65905377 15.13270957 14.53852259  9.51189265\n",
      " 11.83764958 12.38410738  5.58376566 14.98116073 10.96483899 14.28864615\n",
      " 12.87018861 15.04256157  9.939011   11.83923513  8.18089558  8.57377471\n",
      " 12.95728251 15.19411042 12.68415096 17.55252102  6.86117377  9.66344149\n",
      "  5.12838484 10.72045461 19.30570565 15.77033966 10.35595608 18.42776957\n",
      " 12.8990539  12.93439398 16.43410707 12.80573367 18.70090112  9.90513834\n",
      " 16.46285424  5.98287112 13.53016764  3.64974544 12.2072736   9.60204065\n",
      "  7.18735469  9.44927283 15.73629513  8.48484568 15.13270957 14.98116073\n",
      "  5.97366725 15.07252771 14.07447749  8.54502754 12.20197624 -0.51930484\n",
      " 15.2849927  15.34565926 12.96277457 11.20319173 11.84130651]\n"
     ]
    }
   ],
   "source": [
    "predictions =linearclassifier.predict(x_test)\n",
    "print(predictions)\n",
    "#predicting the values of test dataset"
   ]
  },
  {
   "cell_type": "code",
   "execution_count": 36,
   "metadata": {},
   "outputs": [
    {
     "data": {
      "image/png": "[encoded data removed]",
      "text/plain": [
       "<Figure size 432x288 with 1 Axes>"
      ]
     },
     "metadata": {
      "needs_background": "light"
     },
     "output_type": "display_data"
    }
   ],
   "source": [
    "plt.scatter(dataset[\"studytime\"],dataset[\"G3\"])\n",
    "plt.xlabel(\"studytime\")\n",
    "plt.ylabel(\"Grade 3\")\n",
    "#plt.plot()\n",
    "plt.show()\n",
    "#plotting the data in a graph\n",
    "#This is not the correct way to plot the graph"
   ]
  },
  {
   "cell_type": "code",
   "execution_count": null,
   "metadata": {},
   "outputs": [],
   "source": [
    "#In all the taken features Which has more influence on result?"
   ]
  }
 ],
 "metadata": {
  "kernelspec": {
   "display_name": "Python 3",
   "language": "python",
   "name": "python3"
  },
  "language_info": {
   "codemirror_mode": {
    "name": "ipython",
    "version": 3
   },
   "file_extension": ".py",
   "mimetype": "text/x-python",
   "name": "python",
   "nbconvert_exporter": "python",
   "pygments_lexer": "ipython3",
   "version": "3.6.8"
  }
 },
 "nbformat": 4,
 "nbformat_minor": 2
}
