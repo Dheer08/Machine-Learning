{
 "cells": [
  {
   "cell_type": "markdown",
   "metadata": {},
   "source": [
    "# Introduction to Modern Computer Science and Machine Learning\n",
    " ### Traditional Computer Science takes data as input and will be fed into a program to give an output\n",
    "### Modern Computer Science makes machine Learn from the input with or without any clear instructions\n",
    "<img src=\"images/Machine-Learning1.png\">\n",
    "\n",
    "### <i> Machine Learning comes is a sub Field of vast Data Science where the we make machine Learn.Instead of pure Logic ,we use statistics ,probability etc .. to design algorithms such a way that it easily identifies the patterns embedded in input<i>\n"
   ]
  },
  {
   "cell_type": "markdown",
   "metadata": {},
   "source": [
    "<img src =\"images/idea.png\" width =500 px>"
   ]
  },
  {
   "cell_type": "markdown",
   "metadata": {},
   "source": [
    "### <i>As you see in the venn Diagram the machine Learning algorithms are mostly derived from maths by great mathematical professors.The main components of math required for machine Learning are : </i>\n",
    "   <ul>\n",
    "       <b> <li>Linear Algebra</li>\n",
    "        <li>Calculus</li>\n",
    "        <li>Geomentry</li>\n",
    "        <li>probabilty</li>\n",
    "           <li>Statisitcs</li></b>\n",
    "\n",
    "</ul>"
   ]
  },
  {
   "cell_type": "markdown",
   "metadata": {},
   "source": [
    "<h3> Applications of Machine Learning are spread across world irrespective of differnt Fields and branches and\n",
    " we use them in our day to day life </h3>\n",
    " <img src=\"images/applications1.png\" width =500px>"
   ]
  },
  {
   "cell_type": "markdown",
   "metadata": {},
   "source": [
    "<h3>Three Main Types of Machine learning are :</h3>\n",
    "<ul><b><i>\n",
    "    <li>Supervised Learning</li>\n",
    "    <li>Unsupervised Learning</li>\n",
    "    <li>Reinforcement Learning</li><b></i>\n",
    "</ul>"
   ]
  },
  {
   "cell_type": "markdown",
   "metadata": {},
   "source": [
    "<h3> Supervised Learning </h3>\n",
    "<b><i> Supervised Learning needs labeled data to make predictions for new input data </i></b>\n"
   ]
  },
  {
   "cell_type": "markdown",
   "metadata": {},
   "source": [
    "<h3> Unsupervised Learning </h3>\n",
    "<b><i> Unsupervised Learning doesn't need  labeled data to make predictions for new input data </i></b>"
   ]
  },
  {
   "cell_type": "markdown",
   "metadata": {},
   "source": [
    "<h3> Reinforcment Learning </h3>\n",
    "<b><i> Reinforcement Learning learns by trial and error </i></b>"
   ]
  }
 ],
 "metadata": {
  "kernelspec": {
   "display_name": "Python 3",
   "language": "python",
   "name": "python3"
  },
  "language_info": {
   "codemirror_mode": {
    "name": "ipython",
    "version": 3
   },
   "file_extension": ".py",
   "mimetype": "text/x-python",
   "name": "python",
   "nbconvert_exporter": "python",
   "pygments_lexer": "ipython3",
   "version": "3.6.8"
  }
 },
 "nbformat": 4,
 "nbformat_minor": 2
}
