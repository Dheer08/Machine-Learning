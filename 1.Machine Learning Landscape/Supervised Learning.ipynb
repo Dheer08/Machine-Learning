{
 "cells": [
  {
   "cell_type": "markdown",
   "metadata": {},
   "source": [
    "<h1> Supervised Learning </h1>\n",
    "  "
   ]
  },
  {
   "cell_type": "markdown",
   "metadata": {},
   "source": [
    "<ol><b><i>\n",
    "    <li>Regression</li>\n",
    "    <li>Classification</li><b><i>\n",
    "    </ol>"
   ]
  },
  {
   "cell_type": "markdown",
   "metadata": {},
   "source": [
    "<img src ='images/differnce2.jpg'>"
   ]
  },
  {
   "cell_type": "markdown",
   "metadata": {},
   "source": [
    "<h2>Regression Algorithms</h2>\n",
    "<ul><b><i>\n",
    "    <li>Simple Linear Regression</li>\n",
    "    <li>Multiple Linear Regression</li>\n",
    "    <li>Polynomial Regression</li>\n",
    "    <li>Stepwise Regression</li>\n",
    "    <li>Ridge Regression</li>\n",
    "    <li>Lasso Regression</li>\n",
    "    <li>Elasticnet Regression</li>\n",
    "    <b><i>\n",
    "    </ul>"
   ]
  },
  {
   "cell_type": "markdown",
   "metadata": {},
   "source": [
    "<img src ='images/difference1.png' width =500px>"
   ]
  },
  {
   "cell_type": "markdown",
   "metadata": {},
   "source": [
    "<h2>Classification Algorithms</h2>\n",
    "<ul>\n",
    "    <b><i>\n",
    "        <li>Logistic Regression</li>\n",
    "         <li>Naive Bayes</li>\n",
    "         <li>Support Vector machine</li>\n",
    "         <li>K-Nearest Neighbors</li>\n",
    "         <li>Random Forest</li>\n",
    "         <li>Descision Tree</li>\n",
    "        </b></i>\n",
    "    </ul>"
   ]
  }
 ],
 "metadata": {
  "kernelspec": {
   "display_name": "Python 3",
   "language": "python",
   "name": "python3"
  },
  "language_info": {
   "codemirror_mode": {
    "name": "ipython",
    "version": 3
   },
   "file_extension": ".py",
   "mimetype": "text/x-python",
   "name": "python",
   "nbconvert_exporter": "python",
   "pygments_lexer": "ipython3",
   "version": "3.6.8"
  }
 },
 "nbformat": 4,
 "nbformat_minor": 2
}
